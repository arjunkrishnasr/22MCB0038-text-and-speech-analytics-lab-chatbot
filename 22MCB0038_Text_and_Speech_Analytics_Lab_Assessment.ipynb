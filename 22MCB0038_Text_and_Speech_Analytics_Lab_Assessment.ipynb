{
  "nbformat": 4,
  "nbformat_minor": 0,
  "metadata": {
    "colab": {
      "provenance": [],
      "authorship_tag": "ABX9TyPrcnD+6J3PadvpRD22nLLA",
      "include_colab_link": true
    },
    "kernelspec": {
      "name": "python3",
      "display_name": "Python 3"
    },
    "language_info": {
      "name": "python"
    }
  },
  "cells": [
    {
      "cell_type": "markdown",
      "metadata": {
        "id": "view-in-github",
        "colab_type": "text"
      },
      "source": [
        "<a href=\"https://colab.research.google.com/github/arjunkrishnasr/22MCB0038-text-and-speech-analytics-lab-chatbot/blob/main/22MCB0038_Text_and_Speech_Analytics_Lab_Assessment.ipynb\" target=\"_parent\"><img src=\"https://colab.research.google.com/assets/colab-badge.svg\" alt=\"Open In Colab\"/></a>"
      ]
    },
    {
      "cell_type": "markdown",
      "source": [
        "**Import Necessary Libraries**"
      ],
      "metadata": {
        "id": "6_2104iukGdx"
      }
    },
    {
      "cell_type": "code",
      "source": [
        "import nltk\n",
        "from nltk.corpus import stopwords\n",
        "from nltk.tokenize import word_tokenize"
      ],
      "metadata": {
        "id": "SCpS0PihkDhC"
      },
      "execution_count": 16,
      "outputs": []
    },
    {
      "cell_type": "markdown",
      "source": [
        "**Download NLTK resources**"
      ],
      "metadata": {
        "id": "E1zb2jVukZEd"
      }
    },
    {
      "cell_type": "code",
      "source": [
        "# Download NLTK resources\n",
        "nltk.download('punkt')\n",
        "nltk.download('stopwords')"
      ],
      "metadata": {
        "colab": {
          "base_uri": "https://localhost:8080/"
        },
        "id": "MTISZzvzkMNh",
        "outputId": "f6e88ce5-8a2c-4a9b-9edb-ce9b899ef73d"
      },
      "execution_count": 17,
      "outputs": [
        {
          "output_type": "stream",
          "name": "stderr",
          "text": [
            "[nltk_data] Downloading package punkt to /root/nltk_data...\n",
            "[nltk_data]   Package punkt is already up-to-date!\n",
            "[nltk_data] Downloading package stopwords to /root/nltk_data...\n",
            "[nltk_data]   Package stopwords is already up-to-date!\n"
          ]
        },
        {
          "output_type": "execute_result",
          "data": {
            "text/plain": [
              "True"
            ]
          },
          "metadata": {},
          "execution_count": 17
        }
      ]
    },
    {
      "cell_type": "markdown",
      "source": [
        "**Define the chatbot's responses**"
      ],
      "metadata": {
        "id": "25DR6CTpkf9q"
      }
    },
    {
      "cell_type": "code",
      "source": [
        "qa_pairs = {\n",
        "    \"What is VIT?\": \"Vellore Institute of Technology (VIT) is a prestigious educational institution located in Vellore, Tamil Nadu, India. It is a deemed university and offers various undergraduate and postgraduate programs.\",\n",
        "    \"Where is VIT located?\": \"VIT has two campuses. The main campus is located in Vellore, Tamil Nadu, and the other campus is located in Chennai, Tamil Nadu, India.\",\n",
        "    \"What are some popular courses at VIT?\": \"VIT offers a wide range of courses across various disciplines. Some popular courses include B.Tech, B.Sc, BBA, MBA, M.Tech, M.Sc, and Ph.D.\",\n",
        "    \"Is VIT a recognized university?\": \"Yes, VIT is a recognized university. It is a deemed university approved by the University Grants Commission (UGC) and accredited by the National Board of Accreditation (NBA).\",\n",
        "    \"How is the campus life at VIT?\": \"VIT has a vibrant campus life with a diverse student community. It offers numerous clubs, sports facilities, cultural events, and opportunities for personal and professional development.\",\n",
        "    \"Can you tell me about VIT's ranking and reputation?\": \"VIT has consistently been ranked among the top engineering institutions in India. It is recognized for its quality education, infrastructure, research contributions, and industry collaborations.\",\n",
        "    \"What is the admission process at VIT?\": \"The admission process at VIT involves qualifying in the VIT Engineering Entrance Examination (VITEEE) for undergraduate programs or the VIT Masters Entrance Examination (VITMEE) for postgraduate programs.\",\n",
        "    \"How can I contact VIT for more information?\": \"You can visit the official website of VIT (www.vit.ac.in) for more information or contact their admissions office at +91-416-220 2020 / 220 2033.\",\n",
        "    \"What is the fee structure at VIT?\": \"The fee structure at VIT varies depending on the program and the category of the student. It is recommended to visit the official VIT website or contact their admissions office for detailed information on the fee structure.\",\n",
        "    \"Does VIT provide hostel facilities?\": \"Yes, VIT provides hostel facilities for both boys and girls. The hostels are well-equipped with modern amenities and offer a comfortable living environment for the students.\",\n",
        "    \"Tell me about VIT's placements.\": \"VIT has a strong placement record with a high percentage of students being placed in reputed companies. The placement cell at VIT works actively to provide internship and placement opportunities to the students.\",\n",
        "    \"What is the campus size of VIT?\": \"VIT's main campus in Vellore spans across 250 acres of lush greenery, providing a conducive environment for learning and growth.\",\n",
        "    \"Does VIT have international collaborations?\": \"Yes, VIT has established collaborations with renowned universities and institutions around the world, enabling international exchange programs, joint research initiatives, and academic partnerships.\",\n",
        "    \"What are the research opportunities at VIT?\": \"VIT promotes research and innovation across various domains. The university has research centers and facilitates funded research projects, encouraging students and faculty to engage in cutting-edge research.\",\n",
        "    \"Are there any scholarships available at VIT?\": \"Yes, VIT provides scholarships to meritorious and deserving students. The scholarships are awarded based on academic performance, sports achievements, socioeconomic factors, and other criteria.\",\n",
        "    \"Can you tell me about VIT's alumni network?\": \"VIT has a strong and extensive alumni network. Alumni are actively involved in various activities, including mentoring current students, conducting guest lectures, and providing industry insights.\",\n",
        "    \"What are the sports facilities at VIT?\": \"VIT has excellent sports facilities, including indoor and outdoor sports complexes, gymnasiums, tennis courts, football fields, cricket grounds, and more. The university encourages students to participate in sports and organizes annual sports events.\",\n",
        "    \"Does VIT offer internships to students?\": \"Yes, VIT facilitates internships for students, both within India and abroad. The university has collaborations with industry partners, which provide valuable internship opportunities to enhance students' practical skills.\",\n",
        "    \"What is VIT's vision and mission?\": \"VIT's vision is to be a globally recognized institute of excellence in education, research, and innovation. Its mission is to provide quality education, foster entrepreneurship, promote social responsibility, and create global leaders.\",\n",
        "    \"What are the facilities available for research at VIT?\": \"VIT has state-of-the-art research facilities, including well-equipped laboratories, advanced computing resources, research centers, and access to a vast collection of research journals and databases.\",\n",
        "    \"Tell me about VIT's faculty.\": \"VIT has a distinguished faculty comprising experienced professors, industry experts, and researchers. The faculty members are dedicated to delivering quality education, guiding students in their academic pursuits, and conducting impactful research.\",\n",
        "    \"What are the extracurricular activities at VIT?\": \"VIT offers a wide range of extracurricular activities, including clubs for music, dance, drama, photography, coding, robotics, and more. There are also student-led organizations that promote cultural, technical, and social initiatives.\",\n",
        "    \"Are there any industry tie-ups for VIT students?\": \"Yes, VIT has strong ties with industry partners and collaborates with leading companies for internships, projects, and placements. The university organizes career fairs and industry interaction sessions to connect students with potential employers.\",\n",
        "    \"Tell me about VIT's social initiatives.\": \"VIT actively engages in various social initiatives, including community development programs, environmental awareness campaigns, and social entrepreneurship projects. The university encourages students to contribute to society and make a positive impact.\",\n",
        "    \"What is the library infrastructure at VIT?\": \"VIT has a well-stocked library with a vast collection of books, journals, e-resources, and research papers. The library offers a comfortable and conducive environment for studying and research.\",\n",
        "    \"Can you provide information about VIT's alumni achievements?\": \"VIT alumni have achieved notable success in various fields, including academia, industry, entrepreneurship, and research. Many alumni hold leadership positions in renowned organizations and contribute to their respective domains.\",\n",
        "    \"Tell me about VIT's student clubs and organizations.\": \"VIT has a vibrant student club culture, encompassing technical, cultural, sports, and social organizations. These clubs provide opportunities for students to explore their interests, develop skills, and engage in co-curricular activities.\",\n",
        "    \"Does VIT have a research publication cell?\": \"Yes, VIT has a research publication cell that promotes research publication activities among students and faculty. The cell assists in manuscript preparation, journal selection, and publishing research papers in reputed journals.\",\n",
        "    \"What are the facilities for entrepreneurship at VIT?\": \"VIT provides extensive support for entrepreneurship and innovation. It has an entrepreneurship development cell, incubation centers, and programs that nurture entrepreneurial skills and help students transform their ideas into successful ventures.\",\n",
        "    \"Tell me about VIT's collaboration with industry.\": \"VIT collaborates with industry partners through MoUs, research projects, internships, and training programs. The university maintains strong relationships with leading companies, enabling industry exposure and fostering industry-academia collaboration.\",\n",
        "    \"What is the student-faculty ratio at VIT?\": \"The student-faculty ratio at VIT is around 1:15, ensuring personalized attention and guidance for students. This facilitates effective learning and interaction between students and faculty members.\",\n",
        "    \"Can you provide information about VIT's awards and accolades?\": \"VIT has received numerous awards and accolades for its academic excellence, research contributions, innovation, and placements. The university has been recognized by prestigious organizations and ranking agencies.\",\n",
        "    \"Tell me about VIT's international programs.\": \"VIT offers various international programs, including study abroad options, student exchange programs, and collaborations with international universities. These programs provide students with global exposure and enrich their educational experience.\"\n",
        "}"
      ],
      "metadata": {
        "id": "Y2Xsn1U_kfaS"
      },
      "execution_count": 18,
      "outputs": []
    },
    {
      "cell_type": "markdown",
      "source": [
        "**Preprocess the user input**"
      ],
      "metadata": {
        "id": "Z_0qgvSQlAas"
      }
    },
    {
      "cell_type": "code",
      "source": [
        "# Preprocess user input\n",
        "def preprocess_input(text):\n",
        "    stop_words = set(stopwords.words('english'))\n",
        "    tokens = word_tokenize(text.lower())\n",
        "    filtered_tokens = [token for token in tokens if token.isalnum() and token not in stop_words]\n",
        "    return filtered_tokens"
      ],
      "metadata": {
        "id": "coM1xUa_k6qi"
      },
      "execution_count": 20,
      "outputs": []
    },
    {
      "cell_type": "markdown",
      "source": [
        "**Function to calculate the similarity between two sentences**"
      ],
      "metadata": {
        "id": "_1RI68NOlF0g"
      }
    },
    {
      "cell_type": "code",
      "source": [
        "# Function to calculate the similarity between two sentences\n",
        "def calculate_similarity(input_tokens, response_tokens):\n",
        "    common_tokens = set(input_tokens) & set(response_tokens)\n",
        "    similarity = len(common_tokens) / len(input_tokens)\n",
        "    return similarity"
      ],
      "metadata": {
        "id": "U-jwbdFklFDi"
      },
      "execution_count": 21,
      "outputs": []
    },
    {
      "cell_type": "markdown",
      "source": [
        "**Function to get the most appropriate response**"
      ],
      "metadata": {
        "id": "qM9Qh7JalRI4"
      }
    },
    {
      "cell_type": "code",
      "source": [
        "# Function to get the most appropriate response\n",
        "def get_response(input_text):\n",
        "    input_tokens = preprocess_input(input_text)\n",
        "    max_similarity = 0\n",
        "    response = \"\"\n",
        "\n",
        "    for question, answer in qa_pairs.items():\n",
        "        response_tokens = preprocess_input(question)\n",
        "        similarity = calculate_similarity(input_tokens, response_tokens)\n",
        "        \n",
        "        if similarity > max_similarity:\n",
        "            max_similarity = similarity\n",
        "            response = answer\n",
        "\n",
        "    return response"
      ],
      "metadata": {
        "id": "B8fsFUablQKV"
      },
      "execution_count": 28,
      "outputs": []
    },
    {
      "cell_type": "markdown",
      "source": [
        "**Chatbot interaction loop**"
      ],
      "metadata": {
        "id": "6psqaYYTle_B"
      }
    },
    {
      "cell_type": "code",
      "source": [
        "# Chatbot interaction loop\n",
        "while True:\n",
        "    user_input = input(\"Welcome to chatbot VIT designed by Arjun Krishna S R, 22MCB0038: \")\n",
        "\n",
        "    if user_input.lower() == \"exit\":\n",
        "        break\n",
        "\n",
        "    response = get_response(user_input)\n",
        "\n",
        "    print(\"Chatbot:\", response)"
      ],
      "metadata": {
        "id": "NYjabzWXlefr"
      },
      "execution_count": null,
      "outputs": []
    }
  ]
}